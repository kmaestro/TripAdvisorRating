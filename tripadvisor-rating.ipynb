{
 "cells": [
  {
   "cell_type": "code",
   "execution_count": 1,
   "outputs": [],
   "source": [
    "import numpy as np # linear algebra\n",
    "import pandas as pd # data processing, CSV file I/O (e.g. pd.read_csv)\n",
    "import re\n",
    "import datetime\n",
    "\n",
    "import matplotlib.pyplot as plt\n",
    "import seaborn as sns \n",
    "%matplotlib inline\n",
    "\n",
    "# Загружаем специальный удобный инструмент для разделения датасета:\n",
    "from sklearn.model_selection import train_test_split"
   ],
   "metadata": {
    "collapsed": false,
    "pycharm": {
     "name": "#%%\n",
     "is_executing": false
    }
   }
  },
  {
   "cell_type": "code",
   "execution_count": 2,
   "outputs": [],
   "source": [
    "RANDOM_SEED = 42"
   ],
   "metadata": {
    "collapsed": false,
    "pycharm": {
     "name": "#%%\n",
     "is_executing": false
    }
   }
  },
  {
   "cell_type": "code",
   "execution_count": 3,
   "outputs": [
    {
     "name": "stdout",
     "text": [
      "<class 'pandas.core.frame.DataFrame'>\n",
      "RangeIndex: 50000 entries, 0 to 49999\n",
      "Data columns (total 11 columns):\n",
      " #   Column             Non-Null Count  Dtype  \n",
      "---  ------             --------------  -----  \n",
      " 0   Restaurant_id      50000 non-null  object \n",
      " 1   City               50000 non-null  object \n",
      " 2   Cuisine Style      38410 non-null  object \n",
      " 3   Ranking            50000 non-null  float64\n",
      " 4   Price Range        32639 non-null  object \n",
      " 5   Number of Reviews  46800 non-null  float64\n",
      " 6   Reviews            49998 non-null  object \n",
      " 7   URL_TA             50000 non-null  object \n",
      " 8   ID_TA              50000 non-null  object \n",
      " 9   sample             50000 non-null  int64  \n",
      " 10  Rating             50000 non-null  float64\n",
      "dtypes: float64(3), int64(1), object(7)\n",
      "memory usage: 4.2+ MB\n"
     ],
     "output_type": "stream"
    }
   ],
   "source": [
    "df_train = pd.read_csv('data/main_task.csv')\n",
    "df_test = pd.read_csv('data/kaggle_task.csv')\n",
    "\n",
    "df_train['sample'] = 1 # помечаем где у нас трейн\n",
    "df_test['sample'] = 0 # помечаем где у нас тест\n",
    "df_test['Rating'] = 0\n",
    "\n",
    "data = df_test.append(df_train, sort=False).reset_index(drop=True) # объединяем\n",
    "data.info()"
   ],
   "metadata": {
    "collapsed": false,
    "pycharm": {
     "name": "#%%\n",
     "is_executing": false
    }
   }
  },
  {
   "cell_type": "code",
   "execution_count": 4,
   "outputs": [],
   "source": [
    "df_preproc = data.copy()\n"
   ],
   "metadata": {
    "collapsed": false,
    "pycharm": {
     "name": "#%%\n",
     "is_executing": false
    }
   }
  },
  {
   "cell_type": "code",
   "execution_count": 5,
   "outputs": [],
   "source": [
    "data['Number_of_Reviews_isNAN'] = pd.isna(data['Number of Reviews']).astype('uint8')\n",
    "data['Cuisine_Style_isNAN'] = pd.isna(data['Cuisine Style']).astype('uint8')\n",
    "# data['Price_Range_isNAN'] = pd.isna(data['Price Range']).astype('uint8')"
   ],
   "metadata": {
    "collapsed": false,
    "pycharm": {
     "name": "#%%\n",
     "is_executing": false
    }
   }
  },
  {
   "cell_type": "code",
   "execution_count": 6,
   "outputs": [],
   "source": [
    "df_preproc['Number of Reviews'].fillna(0, inplace=True)\n",
    "df_preproc['Cuisine Style'].fillna(0, inplace=True)\n"
   ],
   "metadata": {
    "collapsed": false,
    "pycharm": {
     "name": "#%%\n",
     "is_executing": false
    }
   }
  },
  {
   "cell_type": "code",
   "execution_count": 7,
   "outputs": [
    {
     "data": {
      "text/plain": "0                                           ['Bar', 'Pub']\n1        ['European', 'Scandinavian', 'Gluten Free Opti...\n2                                  ['Vegetarian Friendly']\n3        ['Italian', 'Mediterranean', 'European', 'Vege...\n4        ['Italian', 'Mediterranean', 'European', 'Seaf...\n                               ...                        \n49995    ['Italian', 'Vegetarian Friendly', 'Vegan Opti...\n49996    ['French', 'American', 'Bar', 'European', 'Veg...\n49997                                ['Japanese', 'Sushi']\n49998    ['Polish', 'European', 'Eastern European', 'Ce...\n49999                                          ['Spanish']\nName: Cuisine Style, Length: 50000, dtype: object"
     },
     "metadata": {},
     "output_type": "execute_result",
     "execution_count": 7
    }
   ],
   "source": [
    "df_preproc['Cuisine Style']"
   ],
   "metadata": {
    "collapsed": false,
    "pycharm": {
     "name": "#%%\n",
     "is_executing": false
    }
   }
  },
  {
   "cell_type": "code",
   "execution_count": 8,
   "outputs": [],
   "source": [
    "df_preproc['Cuisine Style'] = df_preproc['Cuisine Style'].str[2:-2].str.split(\"', '\")"
   ],
   "metadata": {
    "collapsed": false,
    "pycharm": {
     "name": "#%%\n",
     "is_executing": false
    }
   }
  },
  {
   "cell_type": "code",
   "execution_count": 9,
   "outputs": [],
   "source": [
    "#Очистим столбец Restaurant_id (сделаем только из цифр)\n",
    "df_preproc['Restaurant_id'] = df_preproc['Restaurant_id'].apply(lambda x : int(x.split('_')[1]))"
   ],
   "metadata": {
    "collapsed": false,
    "pycharm": {
     "name": "#%%\n",
     "is_executing": false
    }
   }
  },
  {
   "cell_type": "code",
   "execution_count": 10,
   "outputs": [],
   "source": [
    "def price_range_rating (price_range_string):\n",
    "    if \"$$$$\" in str(price_range_string):\n",
    "        return 3\n",
    "    elif \"$$ - $$$\" in str(price_range_string):\n",
    "        return 2\n",
    "    elif \"$\" in str(price_range_string):\n",
    "        return 1\n",
    "    elif str(0) in str(price_range_string):\n",
    "        return 0\n",
    "\n",
    "df_preproc['Price Range'] = df_preproc['Price Range'].apply(price_range_rating)\n",
    "#Делаем dummies на основе изменного Price Range\n",
    "df_preproc = pd.get_dummies(df_preproc, columns=['Price Range', ], dummy_na=True)"
   ],
   "metadata": {
    "collapsed": false,
    "pycharm": {
     "name": "#%% \n",
     "is_executing": false
    }
   }
  },
  {
   "cell_type": "code",
   "execution_count": 11,
   "outputs": [],
   "source": [
    "#Добавим население из Google\n",
    "city = {\n",
    "    'London': {\n",
    "        'population': 8908081,\n",
    "        'is_capital': 1,\n",
    "        'country': 'United Kingdom',\n",
    "        'cuisine': None,\n",
    "    },\n",
    "    'Paris': {\n",
    "        'population':2240621,\n",
    "        'is_capital': 1,\n",
    "        'country': 'France',\n",
    "        'cuisine': None,\n",
    "    },\n",
    "    'Madrid': {\n",
    "        'population': 3155360,\n",
    "        'is_capital': 1,\n",
    "        'country': 'France',\n",
    "        'cuisine': None,\n",
    "    },\n",
    "    'Barcelona': {\n",
    "        'population': 1593075,\n",
    "        'is_capital': 0,\n",
    "        'country': 'Spain',\n",
    "        'cuisine': None,\n",
    "    },\n",
    "    'Berlin': {\n",
    "        'population': 3326002,\n",
    "        'is_capital': 1,\n",
    "        'country': 'Germainy',\n",
    "        'cuisine': None,\n",
    "    },\n",
    "    'Milan': {\n",
    "        'population': 1331586,\n",
    "        'is_capital': 0,\n",
    "        'country': 'Italy',\n",
    "        'cuisine': None,\n",
    "    },\n",
    "    'Rome': {\n",
    "        'population': 2870493,\n",
    "        'is_capital': 1,\n",
    "        'country': 'Italy',\n",
    "        'cuisine': None,\n",
    "    },\n",
    "    'Prague': {\n",
    "        'population': 1272690,\n",
    "        'is_capital': 1,\n",
    "        'country': 'Czech Republic',\n",
    "        'cuisine': None,\n",
    "    },\n",
    "    'Lisbon': {\n",
    "        'population': 547733,\n",
    "        'is_capital': 1,\n",
    "        'country': 'Portugal',\n",
    "        'cuisine': None,\n",
    "    },\n",
    "    'Vienna': {\n",
    "        'population': 1765649,\n",
    "        'is_capital': 1,\n",
    "        'country': 'Austria',\n",
    "        'cuisine': None,\n",
    "    },\n",
    "    'Amsterdam': {\n",
    "        'population': 825080,\n",
    "        'is_capital': 1,\n",
    "        'country': 'Netherlands',\n",
    "        'cuisine': None,\n",
    "    },\n",
    "    'Brussels': {\n",
    "        'population': 144784,\n",
    "        'is_capital': 1,\n",
    "        'country': 'Belgium',\n",
    "        'cuisine': None,\n",
    "    },\n",
    "    'Hamburg': {\n",
    "        'population': 1718187,\n",
    "        'is_capital': 0,\n",
    "        'country': 'Germainy',\n",
    "        'cuisine': None,\n",
    "    },\n",
    "    'Munich': {\n",
    "        'population': 1364920,\n",
    "        'is_capital': 0,\n",
    "        'country': 'Germainy',\n",
    "        'cuisine': None,\n",
    "    },\n",
    "    'Lyon': {\n",
    "        'population': 496343,\n",
    "        'is_capital': 0,\n",
    "        'country': 'France',\n",
    "        'cuisine': None,\n",
    "    },\n",
    "    'Stockholm': {\n",
    "        'population': 1981263,\n",
    "        'is_capital': 1,\n",
    "        'country': 'Sweden',\n",
    "        'cuisine': None,\n",
    "    },\n",
    "    'Budapest': {\n",
    "        'population': 1744665,\n",
    "        'is_capital': 1,\n",
    "        'country': 'Hungary',\n",
    "        'cuisine': None,\n",
    "    },\n",
    "    'Warsaw': {\n",
    "        'population': 1720398,\n",
    "        'is_capital': 1,\n",
    "        'country': 'Poland',\n",
    "        'cuisine': None,\n",
    "    },\n",
    "    'Dublin': {\n",
    "        'population': 506211,\n",
    "        'is_capital': 1,\n",
    "        'country': 'Ireland',\n",
    "        'cuisine': None,\n",
    "    } ,\n",
    "    'Copenhagen': {\n",
    "        'population': 1246611,\n",
    "        'is_capital': 1,\n",
    "        'country': 'Denmark',\n",
    "        'cuisine': None,\n",
    "    },\n",
    "    'Athens': {\n",
    "        'population': 3168846,\n",
    "        'is_capital': 1,\n",
    "        'country': 'Greece',\n",
    "        'cuisine': None,\n",
    "    },\n",
    "    'Edinburgh': {\n",
    "        'population': 476100,\n",
    "        'is_capital': 1,\n",
    "        'country': 'Scotland',\n",
    "        'cuisine': None,\n",
    "    },\n",
    "    'Zurich': {\n",
    "        'population': 402275,\n",
    "        'is_capital': 1,\n",
    "        'country': 'Switzerland',\n",
    "        'cuisine': None,\n",
    "    },\n",
    "    'Oporto': {\n",
    "        'population': 221800,\n",
    "        'is_capital': 0,\n",
    "        'country': 'Portugal',\n",
    "        'cuisine': None,\n",
    "    },\n",
    "    'Geneva': {\n",
    "        'population': 196150,\n",
    "        'is_capital': 0,\n",
    "        'country': 'Switzerland',\n",
    "        'cuisine': None,\n",
    "    },\n",
    "    'Krakow': {\n",
    "        'population': 756183,\n",
    "        'is_capital': 0,\n",
    "        'country': 'Poland',\n",
    "        'cuisine': None,\n",
    "    },\n",
    "    'Oslo': {\n",
    "        'population': 673469,\n",
    "        'is_capital': 1,\n",
    "        'country': 'Norway',\n",
    "        'cuisine': None,\n",
    "    },\n",
    "    'Helsinki': {\n",
    "        'population': 574579,\n",
    "        'is_capital': 1,\n",
    "        'country': 'Finland',\n",
    "        'cuisine': None,\n",
    "    },\n",
    "    'Bratislava': {\n",
    "        'population': 413192,\n",
    "        'is_capital': 1,\n",
    "        'country': 'Slovakia',\n",
    "        'cuisine': None,\n",
    "    },\n",
    "    'Luxembourg': {\n",
    "        'population': 576249,\n",
    "        'is_capital': 1,\n",
    "        'country': 'Luxembourg',\n",
    "        'cuisine': None,\n",
    "    },\n",
    "    'Ljubljana': {\n",
    "        'population': 277554,\n",
    "        'is_capital': 1,\n",
    "        'country': 'Slovenia',\n",
    "        'cuisine': None,\n",
    "    }\n",
    "}\n",
    "\n",
    "df_preproc['population'] = df_preproc['City'].apply(lambda x: city[x]['population'])\n",
    "df_preproc['is_capital'] = df_preproc['City'].apply(lambda x: city[x]['is_capital'])\n",
    "df_preproc['country'] = df_preproc['City'].apply(lambda x: city[x]['country'])\n",
    "df_preproc = pd.get_dummies(df_preproc, columns=['country'], dummy_na=True)"
   ],
   "metadata": {
    "collapsed": false,
    "pycharm": {
     "name": "#%%\n",
     "is_executing": false
    }
   }
  },
  {
   "cell_type": "code",
   "execution_count": 12,
   "outputs": [
    {
     "name": "stdout",
     "text": [
      "<class 'pandas.core.frame.DataFrame'>\n",
      "RangeIndex: 50000 entries, 0 to 49999\n",
      "Data columns (total 40 columns):\n",
      " #   Column                  Non-Null Count  Dtype  \n",
      "---  ------                  --------------  -----  \n",
      " 0   Restaurant_id           50000 non-null  int64  \n",
      " 1   City                    50000 non-null  object \n",
      " 2   Cuisine Style           38410 non-null  object \n",
      " 3   Ranking                 50000 non-null  float64\n",
      " 4   Number of Reviews       50000 non-null  float64\n",
      " 5   Reviews                 49998 non-null  object \n",
      " 6   URL_TA                  50000 non-null  object \n",
      " 7   ID_TA                   50000 non-null  object \n",
      " 8   sample                  50000 non-null  int64  \n",
      " 9   Rating                  50000 non-null  float64\n",
      " 10  Price Range_1.0         50000 non-null  uint8  \n",
      " 11  Price Range_2.0         50000 non-null  uint8  \n",
      " 12  Price Range_3.0         50000 non-null  uint8  \n",
      " 13  Price Range_nan         50000 non-null  uint8  \n",
      " 14  population              50000 non-null  int64  \n",
      " 15  is_capital              50000 non-null  int64  \n",
      " 16  country_Austria         50000 non-null  uint8  \n",
      " 17  country_Belgium         50000 non-null  uint8  \n",
      " 18  country_Czech Republic  50000 non-null  uint8  \n",
      " 19  country_Denmark         50000 non-null  uint8  \n",
      " 20  country_Finland         50000 non-null  uint8  \n",
      " 21  country_France          50000 non-null  uint8  \n",
      " 22  country_Germainy        50000 non-null  uint8  \n",
      " 23  country_Greece          50000 non-null  uint8  \n",
      " 24  country_Hungary         50000 non-null  uint8  \n",
      " 25  country_Ireland         50000 non-null  uint8  \n",
      " 26  country_Italy           50000 non-null  uint8  \n",
      " 27  country_Luxembourg      50000 non-null  uint8  \n",
      " 28  country_Netherlands     50000 non-null  uint8  \n",
      " 29  country_Norway          50000 non-null  uint8  \n",
      " 30  country_Poland          50000 non-null  uint8  \n",
      " 31  country_Portugal        50000 non-null  uint8  \n",
      " 32  country_Scotland        50000 non-null  uint8  \n",
      " 33  country_Slovakia        50000 non-null  uint8  \n",
      " 34  country_Slovenia        50000 non-null  uint8  \n",
      " 35  country_Spain           50000 non-null  uint8  \n",
      " 36  country_Sweden          50000 non-null  uint8  \n",
      " 37  country_Switzerland     50000 non-null  uint8  \n",
      " 38  country_United Kingdom  50000 non-null  uint8  \n",
      " 39  country_nan             50000 non-null  uint8  \n",
      "dtypes: float64(3), int64(4), object(5), uint8(28)\n",
      "memory usage: 5.9+ MB\n",
      "None\n"
     ],
     "output_type": "stream"
    }
   ],
   "source": [
    "print(df_preproc.info())"
   ],
   "metadata": {
    "collapsed": false,
    "pycharm": {
     "name": "#%%\n",
     "is_executing": false
    }
   }
  },
  {
   "cell_type": "code",
   "execution_count": 13,
   "outputs": [],
   "source": [
    "count = df_preproc['City'].value_counts()\n",
    "df_preproc['restaurant_in_city'] = df_preproc['City'].apply(lambda x : count[x])\n",
    "df_preproc = pd.get_dummies(df_preproc, columns=['City'], dummy_na=True)"
   ],
   "metadata": {
    "collapsed": false,
    "pycharm": {
     "name": "#%%\n",
     "is_executing": false
    }
   }
  },
  {
   "cell_type": "code",
   "execution_count": 14,
   "outputs": [],
   "source": [
    "object_columns = [s for s in df_preproc.columns if df_preproc[s].dtypes == 'object']\n",
    "df_preproc.drop(object_columns, axis = 1, inplace=True)"
   ],
   "metadata": {
    "collapsed": false,
    "pycharm": {
     "name": "#%%\n",
     "is_executing": false
    }
   }
  },
  {
   "cell_type": "code",
   "execution_count": 15,
   "outputs": [],
   "source": [
    "# Теперь выделим тестовую часть\n",
    "train_data = df_preproc.query('sample == 1').drop(['sample'], axis=1)\n",
    "test_data = df_preproc.query('sample == 0').drop(['sample'], axis=1)\n",
    "\n",
    "y = train_data.Rating.values            # наш таргет\n",
    "X = train_data.drop(['Rating'], axis=1)"
   ],
   "metadata": {
    "collapsed": false,
    "pycharm": {
     "name": "#%%\n",
     "is_executing": false
    }
   }
  },
  {
   "cell_type": "code",
   "execution_count": 16,
   "outputs": [],
   "source": [
    "# Воспользуемся специальной функцие train_test_split для разбивки тестовых данных\n",
    "# выделим 20% данных на валидацию (параметр test_size)\n",
    "X_train, X_test, y_train, y_test = train_test_split(X, y, test_size=0.2, random_state=RANDOM_SEED)"
   ],
   "metadata": {
    "collapsed": false,
    "pycharm": {
     "name": "#%%\n",
     "is_executing": false
    }
   }
  },
  {
   "cell_type": "code",
   "execution_count": 17,
   "outputs": [
    {
     "data": {
      "text/plain": "((10000, 67), (40000, 67), (40000, 66), (32000, 66), (8000, 66))"
     },
     "metadata": {},
     "output_type": "execute_result",
     "execution_count": 17
    }
   ],
   "source": [
    "# проверяем\n",
    "test_data.shape, train_data.shape, X.shape, X_train.shape, X_test.shape"
   ],
   "metadata": {
    "collapsed": false,
    "pycharm": {
     "name": "#%%\n",
     "is_executing": false
    }
   }
  },
  {
   "cell_type": "code",
   "execution_count": 18,
   "outputs": [],
   "source": [
    "# Импортируем необходимые библиотеки:\n",
    "from sklearn.ensemble import RandomForestRegressor # инструмент для создания и обучения модели\n",
    "from sklearn import metrics # инструменты для оценки точности модели"
   ],
   "metadata": {
    "collapsed": false,
    "pycharm": {
     "name": "#%%\n",
     "is_executing": false
    }
   }
  },
  {
   "cell_type": "code",
   "execution_count": 19,
   "outputs": [],
   "source": [
    "# Создаём модель (НАСТРОЙКИ НЕ ТРОГАЕМ)\n",
    "model = RandomForestRegressor(n_estimators=100, verbose=1, n_jobs=-1, random_state=RANDOM_SEED)"
   ],
   "metadata": {
    "collapsed": false,
    "pycharm": {
     "name": "#%%\n",
     "is_executing": false
    }
   }
  },
  {
   "cell_type": "code",
   "execution_count": 20,
   "outputs": [
    {
     "name": "stderr",
     "text": [
      "[Parallel(n_jobs=-1)]: Using backend ThreadingBackend with 4 concurrent workers.\n",
      "[Parallel(n_jobs=-1)]: Done  42 tasks      | elapsed:    2.6s\n",
      "[Parallel(n_jobs=-1)]: Done 100 out of 100 | elapsed:    6.0s finished\n",
      "[Parallel(n_jobs=4)]: Using backend ThreadingBackend with 4 concurrent workers.\n",
      "[Parallel(n_jobs=4)]: Done  42 tasks      | elapsed:    0.0s\n",
      "[Parallel(n_jobs=4)]: Done 100 out of 100 | elapsed:    0.1s finished\n"
     ],
     "output_type": "stream"
    }
   ],
   "source": [
    "# Обучаем модель на тестовом наборе данных\n",
    "model.fit(X_train, y_train)\n",
    "\n",
    "# Используем обученную модель для предсказания рейтинга ресторанов в тестовой выборке.\n",
    "# Предсказанные значения записываем в переменную y_pred\n",
    "y_pred = model.predict(X_test)"
   ],
   "metadata": {
    "collapsed": false,
    "pycharm": {
     "name": "#%%\n",
     "is_executing": false
    }
   }
  },
  {
   "cell_type": "code",
   "execution_count": 21,
   "outputs": [
    {
     "name": "stdout",
     "text": [
      "MAE: 0.209654375\n"
     ],
     "output_type": "stream"
    }
   ],
   "source": [
    "# Сравниваем предсказанные значения (y_pred) с реальными (y_test), и смотрим насколько они в среднем отличаются\n",
    "# Метрика называется Mean Absolute Error (MAE) и показывает среднее отклонение предсказанных значений от фактических.\n",
    "print('MAE:', metrics.mean_absolute_error(y_test, y_pred))"
   ],
   "metadata": {
    "collapsed": false,
    "pycharm": {
     "name": "#%%\n",
     "is_executing": false
    }
   }
  },
  {
   "cell_type": "code",
   "execution_count": 22,
   "outputs": [
    {
     "data": {
      "text/plain": "<matplotlib.axes._subplots.AxesSubplot at 0x7f6a8b266240>"
     },
     "metadata": {},
     "output_type": "execute_result",
     "execution_count": 22
    },
    {
     "data": {
      "text/plain": "<Figure size 720x720 with 1 Axes>",
      "image/png": "[encoded data removed]"
     },
     "metadata": {
      "needs_background": "light"
     },
     "output_type": "display_data"
    }
   ],
   "source": [
    "# в RandomForestRegressor есть возможность вывести самые важные признаки для модели\n",
    "plt.rcParams['figure.figsize'] = (10,10)\n",
    "feat_importances = pd.Series(model.feature_importances_, index=X.columns)\n",
    "feat_importances.nlargest(15).plot(kind='barh')\n"
   ],
   "metadata": {
    "collapsed": false,
    "pycharm": {
     "name": "#%%\n",
     "is_executing": false
    }
   }
  }
 ],
 "metadata": {
  "kernelspec": {
   "display_name": "Python 3",
   "language": "python",
   "name": "python3"
  },
  "language_info": {
   "codemirror_mode": {
    "name": "ipython",
    "version": 3
   },
   "file_extension": ".py",
   "mimetype": "text/x-python",
   "name": "python",
   "nbconvert_exporter": "python",
   "pygments_lexer": "ipython3",
   "version": "3.6.6"
  },
  "pycharm": {
   "stem_cell": {
    "cell_type": "raw",
    "source": [],
    "metadata": {
     "collapsed": false
    }
   }
  }
 },
 "nbformat": 4,
 "nbformat_minor": 4
}