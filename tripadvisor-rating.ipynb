{
 "cells": [
  {
   "cell_type": "code",
   "execution_count": 1,
   "outputs": [],
   "source": [
    "import numpy as np # linear algebra\n",
    "import pandas as pd # data processing, CSV file I/O (e.g. pd.read_csv)\n",
    "import re\n",
    "import datetime\n",
    "\n",
    "import matplotlib.pyplot as plt\n",
    "import seaborn as sns \n",
    "%matplotlib inline\n",
    "\n",
    "# Загружаем специальный удобный инструмент для разделения датасета:\n",
    "from sklearn.model_selection import train_test_split"
   ],
   "metadata": {
    "collapsed": false,
    "pycharm": {
     "name": "#%%\n",
     "is_executing": false
    }
   }
  },
  {
   "cell_type": "code",
   "execution_count": 2,
   "outputs": [],
   "source": [
    "RANDOM_SEED = 42"
   ],
   "metadata": {
    "collapsed": false,
    "pycharm": {
     "name": "#%%\n",
     "is_executing": false
    }
   }
  },
  {
   "cell_type": "code",
   "execution_count": 3,
   "outputs": [
    {
     "name": "stdout",
     "text": [
      "<class 'pandas.core.frame.DataFrame'>\n",
      "RangeIndex: 50000 entries, 0 to 49999\n",
      "Data columns (total 11 columns):\n",
      " #   Column             Non-Null Count  Dtype  \n",
      "---  ------             --------------  -----  \n",
      " 0   Restaurant_id      50000 non-null  object \n",
      " 1   City               50000 non-null  object \n",
      " 2   Cuisine Style      38410 non-null  object \n",
      " 3   Ranking            50000 non-null  float64\n",
      " 4   Price Range        32639 non-null  object \n",
      " 5   Number of Reviews  46800 non-null  float64\n",
      " 6   Reviews            49998 non-null  object \n",
      " 7   URL_TA             50000 non-null  object \n",
      " 8   ID_TA              50000 non-null  object \n",
      " 9   sample             50000 non-null  int64  \n",
      " 10  Rating             50000 non-null  float64\n",
      "dtypes: float64(3), int64(1), object(7)\n",
      "memory usage: 4.2+ MB\n"
     ],
     "output_type": "stream"
    }
   ],
   "source": [
    "df_train = pd.read_csv('data/main_task.csv')\n",
    "df_test = pd.read_csv('data/kaggle_task.csv')\n",
    "\n",
    "df_train['sample'] = 1 # помечаем где у нас трейн\n",
    "df_test['sample'] = 0 # помечаем где у нас тест\n",
    "df_test['Rating'] = 0\n",
    "\n",
    "data = df_test.append(df_train, sort=False).reset_index(drop=True) # объединяем\n",
    "data.info()"
   ],
   "metadata": {
    "collapsed": false,
    "pycharm": {
     "name": "#%%\n",
     "is_executing": false
    }
   }
  },
  {
   "cell_type": "code",
   "execution_count": 4,
   "outputs": [],
   "source": [
    "df_preproc = data.copy()\n"
   ],
   "metadata": {
    "collapsed": false,
    "pycharm": {
     "name": "#%%\n",
     "is_executing": false
    }
   }
  },
  {
   "cell_type": "code",
   "execution_count": 5,
   "outputs": [],
   "source": [
    "data['Number_of_Reviews_isNAN'] = pd.isna(data['Number of Reviews']).astype('uint8')\n",
    "data['Cuisine_Style_isNAN'] = pd.isna(data['Cuisine Style']).astype('uint8')\n",
    "# data['Price_Range_isNAN'] = pd.isna(data['Price Range']).astype('uint8')"
   ],
   "metadata": {
    "collapsed": false,
    "pycharm": {
     "name": "#%%\n",
     "is_executing": false
    }
   }
  },
  {
   "cell_type": "code",
   "execution_count": 6,
   "outputs": [],
   "source": [
    "df_preproc['Number of Reviews'].fillna(0, inplace=True)\n",
    "df_preproc['Cuisine Style'].fillna(0, inplace=True)\n"
   ],
   "metadata": {
    "collapsed": false,
    "pycharm": {
     "name": "#%%\n",
     "is_executing": false
    }
   }
  },
  {
   "cell_type": "code",
   "execution_count": 7,
   "outputs": [
    {
     "data": {
      "text/plain": "0                                           ['Bar', 'Pub']\n1        ['European', 'Scandinavian', 'Gluten Free Opti...\n2                                  ['Vegetarian Friendly']\n3        ['Italian', 'Mediterranean', 'European', 'Vege...\n4        ['Italian', 'Mediterranean', 'European', 'Seaf...\n                               ...                        \n49995    ['Italian', 'Vegetarian Friendly', 'Vegan Opti...\n49996    ['French', 'American', 'Bar', 'European', 'Veg...\n49997                                ['Japanese', 'Sushi']\n49998    ['Polish', 'European', 'Eastern European', 'Ce...\n49999                                          ['Spanish']\nName: Cuisine Style, Length: 50000, dtype: object"
     },
     "metadata": {},
     "output_type": "execute_result",
     "execution_count": 7
    }
   ],
   "source": [
    "df_preproc['Cuisine Style']"
   ],
   "metadata": {
    "collapsed": false,
    "pycharm": {
     "name": "#%%\n",
     "is_executing": false
    }
   }
  },
  {
   "cell_type": "code",
   "execution_count": 8,
   "outputs": [],
   "source": [
    "df_preproc['Cuisine Style'] = df_preproc['Cuisine Style'].str[2:-2].str.split(\"', '\")"
   ],
   "metadata": {
    "collapsed": false,
    "pycharm": {
     "name": "#%%\n",
     "is_executing": false
    }
   }
  },
  {
   "cell_type": "code",
   "execution_count": 9,
   "outputs": [
    {
     "data": {
      "text/plain": "      Restaurant_id        City  \\\n0              id_0       Paris   \n1              id_1    Helsinki   \n2              id_2   Edinburgh   \n3              id_3      London   \n4              id_4  Bratislava   \n...             ...         ...   \n49995        id_499       Milan   \n49996       id_6340       Paris   \n49997       id_1649   Stockholm   \n49998        id_640      Warsaw   \n49999       id_4824       Milan   \n\n                                           Cuisine Style  Ranking Price Range  \\\n0                                             [Bar, Pub]  12963.0    $$ - $$$   \n1      [European, Scandinavian, Gluten Free Options, ...    106.0    $$ - $$$   \n2                                  [Vegetarian Friendly]    810.0    $$ - $$$   \n3      [Italian, Mediterranean, European, Vegetarian ...   1669.0        $$$$   \n4      [Italian, Mediterranean, European, Seafood, Ve...     37.0        $$$$   \n...                                                  ...      ...         ...   \n49995  [Italian, Vegetarian Friendly, Vegan Options, ...    500.0    $$ - $$$   \n49996  [French, American, Bar, European, Vegetarian F...   6341.0    $$ - $$$   \n49997                                  [Japanese, Sushi]   1652.0         NaN   \n49998  [Polish, European, Eastern European, Central E...    641.0    $$ - $$$   \n49999                                          [Spanish]   4827.0    $$ - $$$   \n\n       Number of Reviews                                            Reviews  \\\n0                    4.0                                           [[], []]   \n1                   97.0  [['Very good reviews!', 'Fine dining in Hakani...   \n2                   28.0  [['Better than the Links', 'Ivy Black'], ['12/...   \n3                  202.0  [['Most exquisite', 'Delicious and authentic']...   \n4                  162.0  [['Always the best in bratislava', 'Very good ...   \n...                  ...                                                ...   \n49995               79.0  [['The real Italian experience!', 'Wonderful f...   \n49996              542.0  [['Parisian atmosphere', 'Bit pricey but inter...   \n49997                4.0  [['Good by swedish standards', 'A hidden jewel...   \n49998               70.0  [['Underground restaurant', 'Oldest Restaurant...   \n49999              260.0  [['Average', 'Nice an informal'], ['01/31/2016...   \n\n                                                  URL_TA      ID_TA  sample  \\\n0      /Restaurant_Review-g187147-d10746918-Reviews-L...  d10746918       0   \n1      /Restaurant_Review-g189934-d6674944-Reviews-Ra...   d6674944       0   \n2      /Restaurant_Review-g186525-d13129638-Reviews-B...  d13129638       0   \n3      /Restaurant_Review-g186338-d680417-Reviews-Qui...    d680417       0   \n4      /Restaurant_Review-g274924-d1112354-Reviews-Ma...   d1112354       0   \n...                                                  ...        ...     ...   \n49995  /Restaurant_Review-g187849-d2104414-Reviews-Ro...   d2104414       1   \n49996  /Restaurant_Review-g187147-d1800036-Reviews-La...   d1800036       1   \n49997  /Restaurant_Review-g189852-d947615-Reviews-Sus...    d947615       1   \n49998  /Restaurant_Review-g274856-d1100838-Reviews-Ho...   d1100838       1   \n49999  /Restaurant_Review-g187849-d1109020-Reviews-Ta...   d1109020       1   \n\n       Rating  \n0         0.0  \n1         0.0  \n2         0.0  \n3         0.0  \n4         0.0  \n...       ...  \n49995     4.5  \n49996     3.5  \n49997     4.5  \n49998     4.0  \n49999     3.0  \n\n[50000 rows x 11 columns]",
      "text/html": "<div>\n<style scoped>\n    .dataframe tbody tr th:only-of-type {\n        vertical-align: middle;\n    }\n\n    .dataframe tbody tr th {\n        vertical-align: top;\n    }\n\n    .dataframe thead th {\n        text-align: right;\n    }\n</style>\n<table border=\"1\" class=\"dataframe\">\n  <thead>\n    <tr style=\"text-align: right;\">\n      <th></th>\n      <th>Restaurant_id</th>\n      <th>City</th>\n      <th>Cuisine Style</th>\n      <th>Ranking</th>\n      <th>Price Range</th>\n      <th>Number of Reviews</th>\n      <th>Reviews</th>\n      <th>URL_TA</th>\n      <th>ID_TA</th>\n      <th>sample</th>\n      <th>Rating</th>\n    </tr>\n  </thead>\n  <tbody>\n    <tr>\n      <th>0</th>\n      <td>id_0</td>\n      <td>Paris</td>\n      <td>[Bar, Pub]</td>\n      <td>12963.0</td>\n      <td>$$ - $$$</td>\n      <td>4.0</td>\n      <td>[[], []]</td>\n      <td>/Restaurant_Review-g187147-d10746918-Reviews-L...</td>\n      <td>d10746918</td>\n      <td>0</td>\n      <td>0.0</td>\n    </tr>\n    <tr>\n      <th>1</th>\n      <td>id_1</td>\n      <td>Helsinki</td>\n      <td>[European, Scandinavian, Gluten Free Options, ...</td>\n      <td>106.0</td>\n      <td>$$ - $$$</td>\n      <td>97.0</td>\n      <td>[['Very good reviews!', 'Fine dining in Hakani...</td>\n      <td>/Restaurant_Review-g189934-d6674944-Reviews-Ra...</td>\n      <td>d6674944</td>\n      <td>0</td>\n      <td>0.0</td>\n    </tr>\n    <tr>\n      <th>2</th>\n      <td>id_2</td>\n      <td>Edinburgh</td>\n      <td>[Vegetarian Friendly]</td>\n      <td>810.0</td>\n      <td>$$ - $$$</td>\n      <td>28.0</td>\n      <td>[['Better than the Links', 'Ivy Black'], ['12/...</td>\n      <td>/Restaurant_Review-g186525-d13129638-Reviews-B...</td>\n      <td>d13129638</td>\n      <td>0</td>\n      <td>0.0</td>\n    </tr>\n    <tr>\n      <th>3</th>\n      <td>id_3</td>\n      <td>London</td>\n      <td>[Italian, Mediterranean, European, Vegetarian ...</td>\n      <td>1669.0</td>\n      <td>$$$$</td>\n      <td>202.0</td>\n      <td>[['Most exquisite', 'Delicious and authentic']...</td>\n      <td>/Restaurant_Review-g186338-d680417-Reviews-Qui...</td>\n      <td>d680417</td>\n      <td>0</td>\n      <td>0.0</td>\n    </tr>\n    <tr>\n      <th>4</th>\n      <td>id_4</td>\n      <td>Bratislava</td>\n      <td>[Italian, Mediterranean, European, Seafood, Ve...</td>\n      <td>37.0</td>\n      <td>$$$$</td>\n      <td>162.0</td>\n      <td>[['Always the best in bratislava', 'Very good ...</td>\n      <td>/Restaurant_Review-g274924-d1112354-Reviews-Ma...</td>\n      <td>d1112354</td>\n      <td>0</td>\n      <td>0.0</td>\n    </tr>\n    <tr>\n      <th>...</th>\n      <td>...</td>\n      <td>...</td>\n      <td>...</td>\n      <td>...</td>\n      <td>...</td>\n      <td>...</td>\n      <td>...</td>\n      <td>...</td>\n      <td>...</td>\n      <td>...</td>\n      <td>...</td>\n    </tr>\n    <tr>\n      <th>49995</th>\n      <td>id_499</td>\n      <td>Milan</td>\n      <td>[Italian, Vegetarian Friendly, Vegan Options, ...</td>\n      <td>500.0</td>\n      <td>$$ - $$$</td>\n      <td>79.0</td>\n      <td>[['The real Italian experience!', 'Wonderful f...</td>\n      <td>/Restaurant_Review-g187849-d2104414-Reviews-Ro...</td>\n      <td>d2104414</td>\n      <td>1</td>\n      <td>4.5</td>\n    </tr>\n    <tr>\n      <th>49996</th>\n      <td>id_6340</td>\n      <td>Paris</td>\n      <td>[French, American, Bar, European, Vegetarian F...</td>\n      <td>6341.0</td>\n      <td>$$ - $$$</td>\n      <td>542.0</td>\n      <td>[['Parisian atmosphere', 'Bit pricey but inter...</td>\n      <td>/Restaurant_Review-g187147-d1800036-Reviews-La...</td>\n      <td>d1800036</td>\n      <td>1</td>\n      <td>3.5</td>\n    </tr>\n    <tr>\n      <th>49997</th>\n      <td>id_1649</td>\n      <td>Stockholm</td>\n      <td>[Japanese, Sushi]</td>\n      <td>1652.0</td>\n      <td>NaN</td>\n      <td>4.0</td>\n      <td>[['Good by swedish standards', 'A hidden jewel...</td>\n      <td>/Restaurant_Review-g189852-d947615-Reviews-Sus...</td>\n      <td>d947615</td>\n      <td>1</td>\n      <td>4.5</td>\n    </tr>\n    <tr>\n      <th>49998</th>\n      <td>id_640</td>\n      <td>Warsaw</td>\n      <td>[Polish, European, Eastern European, Central E...</td>\n      <td>641.0</td>\n      <td>$$ - $$$</td>\n      <td>70.0</td>\n      <td>[['Underground restaurant', 'Oldest Restaurant...</td>\n      <td>/Restaurant_Review-g274856-d1100838-Reviews-Ho...</td>\n      <td>d1100838</td>\n      <td>1</td>\n      <td>4.0</td>\n    </tr>\n    <tr>\n      <th>49999</th>\n      <td>id_4824</td>\n      <td>Milan</td>\n      <td>[Spanish]</td>\n      <td>4827.0</td>\n      <td>$$ - $$$</td>\n      <td>260.0</td>\n      <td>[['Average', 'Nice an informal'], ['01/31/2016...</td>\n      <td>/Restaurant_Review-g187849-d1109020-Reviews-Ta...</td>\n      <td>d1109020</td>\n      <td>1</td>\n      <td>3.0</td>\n    </tr>\n  </tbody>\n</table>\n<p>50000 rows × 11 columns</p>\n</div>"
     },
     "metadata": {},
     "output_type": "execute_result",
     "execution_count": 9
    }
   ],
   "source": [
    "df_preproc"
   ],
   "metadata": {
    "collapsed": false,
    "pycharm": {
     "name": "#%%\n",
     "is_executing": false
    }
   }
  },
  {
   "cell_type": "code",
   "execution_count": 10,
   "outputs": [],
   "source": [
    "def price_range_rating (price_range_string):\n",
    "    if \"$$$$\" in str(price_range_string):\n",
    "        return 3\n",
    "    elif \"$$ - $$$\" in str(price_range_string):\n",
    "        return 2\n",
    "    elif \"$\" in str(price_range_string):\n",
    "        return 1\n",
    "    elif str(0) in str(price_range_string):\n",
    "        return 0\n",
    "\n",
    "df_preproc['Price Range'] = df_preproc['Price Range'].apply(price_range_rating)\n",
    "#Делаем dummies на основе изменного Price Range\n",
    "df_preproc = pd.get_dummies(df_preproc, columns=['Price Range', ], dummy_na=True)"
   ],
   "metadata": {
    "collapsed": false,
    "pycharm": {
     "name": "#%% \n",
     "is_executing": false
    }
   }
  },
  {
   "cell_type": "code",
   "execution_count": 11,
   "outputs": [],
   "source": [
    "population = {\n",
    "    'London': 8908081,\n",
    "    'Paris': 2240621,\n",
    "    'Madrid': 3155360,\n",
    "    'Barcelona': 1593075,\n",
    "    'Berlin': 3326002,\n",
    "    'Milan': 1331586,\n",
    "    'Rome': 2870493,\n",
    "    'Prague': 1272690,\n",
    "    'Lisbon': 547733,\n",
    "    'Vienna': 1765649,\n",
    "    'Amsterdam': 825080,\n",
    "    'Brussels': 144784,\n",
    "    'Hamburg': 1718187,\n",
    "    'Munich': 1364920,\n",
    "    'Lyon': 496343,\n",
    "    'Stockholm': 1981263,\n",
    "    'Budapest': 1744665,\n",
    "    'Warsaw': 1720398,\n",
    "    'Dublin': 506211 ,\n",
    "    'Copenhagen': 1246611,\n",
    "    'Athens': 3168846,\n",
    "    'Edinburgh': 476100,\n",
    "    'Zurich': 402275,\n",
    "    'Oporto': 221800,\n",
    "    'Geneva': 196150,\n",
    "    'Krakow': 756183,\n",
    "    'Oslo': 673469,\n",
    "    'Helsinki': 574579,\n",
    "    'Bratislava': 413192,\n",
    "    'Luxembourg': 576249,\n",
    "    'Ljubljana': 277554\n",
    "}\n",
    "df_preproc['Population'] = df_preproc['City'].map(population)"
   ],
   "metadata": {
    "collapsed": false,
    "pycharm": {
     "name": "#%%\n",
     "is_executing": false
    }
   }
  },
  {
   "cell_type": "code",
   "execution_count": 12,
   "outputs": [],
   "source": [
    "count = df_preproc['City'].value_counts()\n",
    "df_preproc['restaurant_in_city'] = df_preproc['City'].apply(lambda x : count[x])"
   ],
   "metadata": {
    "collapsed": false,
    "pycharm": {
     "name": "#%%\n",
     "is_executing": false
    }
   }
  },
  {
   "cell_type": "code",
   "execution_count": 13,
   "outputs": [],
   "source": [
    "# Добавляем новый признак \"Столица - Не столица\"\n",
    "capitals = {'City': [\n",
    "    'London', 'Paris', 'Madrid', 'Barcelona', 'Berlin', 'Milan', 'Rome', 'Prague',\n",
    "    'Lisbon', 'Vienna', 'Amsterdam', 'Brussels', 'Hamburg', 'Munich', 'Lyon', 'Stockholm',\n",
    "    'Budapest', 'Warsaw', 'Dublin', 'Copenhagen', 'Athens', 'Edinburgh', 'Zurich', 'Oporto',\n",
    "    'Geneva', 'Krakow', 'Oslo', 'Helsinki', 'Bratislava', 'Luxembourg', 'Ljubljana'],\n",
    "    'Country': [\n",
    "    'United Kingdom', 'France', 'Spain', 'Spain', 'Germainy', 'Italy', 'Italy', 'Czech Republic',\n",
    "    'Portugal', 'Austria', 'Netherlands', 'Belgium', 'Germainy', 'Germainy', 'France', 'Sweden',\n",
    "    'Hungary', 'Poland', 'Ireland', 'Denmark', 'Greece', 'Scotland', 'Switzerland', 'Portugal',\n",
    "    'Switzerland', 'Poland', 'Norway', 'Finland', 'Slovakia', 'Luxembourg', 'Slovenia'],\n",
    "    'Is capital': [1, 1, 1, 0, 1, 0, 1, 1, 1, 1, 1, 1, 0, 0, 0, 1, 1, 1, 1, 1, 1, 1, 0, 0, 0, 0, 1, 1, 1, 1, 1]\n",
    "    }\n",
    "capitals_list = []\n",
    "for i,j in zip(capitals['City'], capitals['Is capital']):\n",
    "    if j == 1:\n",
    "        capitals_list.append(i)\n",
    "def capital_sign(city_string):\n",
    "    if city_string in capitals_list:\n",
    "        return 1\n",
    "    else:\n",
    "        return 0\n",
    "df_preproc['Is_capital'] = df_preproc['City'].apply(capital_sign)\n",
    "#Делаем даммиз на основании нового признака\n",
    "df_output = pd.get_dummies(df_preproc, columns=['Is_capital', ], dummy_na=True)\n",
    "    \n",
    "\n",
    "# для One-Hot Encoding в pandas есть готовая функция - get_dummies. Особенно радует параметр dummy_na\n",
    "df_preproc = pd.get_dummies(df_preproc, columns=[ 'City',], dummy_na=True)\n"
   ],
   "metadata": {
    "collapsed": false,
    "pycharm": {
     "name": "#%%\n",
     "is_executing": false
    }
   }
  },
  {
   "cell_type": "code",
   "execution_count": 14,
   "outputs": [],
   "source": [
    "object_columns = [s for s in df_preproc.columns if df_preproc[s].dtypes == 'object']\n",
    "df_preproc.drop(object_columns, axis = 1, inplace=True)"
   ],
   "metadata": {
    "collapsed": false,
    "pycharm": {
     "name": "#%%\n",
     "is_executing": false
    }
   }
  },
  {
   "cell_type": "code",
   "execution_count": 15,
   "outputs": [],
   "source": [
    "# Теперь выделим тестовую часть\n",
    "train_data = df_preproc.query('sample == 1').drop(['sample'], axis=1)\n",
    "test_data = df_preproc.query('sample == 0').drop(['sample'], axis=1)\n",
    "\n",
    "y = train_data.Rating.values            # наш таргет\n",
    "X = train_data.drop(['Rating'], axis=1)"
   ],
   "metadata": {
    "collapsed": false,
    "pycharm": {
     "name": "#%%\n",
     "is_executing": false
    }
   }
  },
  {
   "cell_type": "code",
   "execution_count": 16,
   "outputs": [],
   "source": [
    "# Воспользуемся специальной функцие train_test_split для разбивки тестовых данных\n",
    "# выделим 20% данных на валидацию (параметр test_size)\n",
    "X_train, X_test, y_train, y_test = train_test_split(X, y, test_size=0.2, random_state=RANDOM_SEED)"
   ],
   "metadata": {
    "collapsed": false,
    "pycharm": {
     "name": "#%%\n",
     "is_executing": false
    }
   }
  },
  {
   "cell_type": "code",
   "execution_count": 17,
   "outputs": [
    {
     "data": {
      "text/plain": "((10000, 42), (40000, 42), (40000, 41), (32000, 41), (8000, 41))"
     },
     "metadata": {},
     "output_type": "execute_result",
     "execution_count": 17
    }
   ],
   "source": [
    "# проверяем\n",
    "test_data.shape, train_data.shape, X.shape, X_train.shape, X_test.shape"
   ],
   "metadata": {
    "collapsed": false,
    "pycharm": {
     "name": "#%%\n",
     "is_executing": false
    }
   }
  },
  {
   "cell_type": "code",
   "execution_count": 18,
   "outputs": [],
   "source": [
    "# Импортируем необходимые библиотеки:\n",
    "from sklearn.ensemble import RandomForestRegressor # инструмент для создания и обучения модели\n",
    "from sklearn import metrics # инструменты для оценки точности модели"
   ],
   "metadata": {
    "collapsed": false,
    "pycharm": {
     "name": "#%%\n",
     "is_executing": false
    }
   }
  },
  {
   "cell_type": "code",
   "execution_count": 19,
   "outputs": [],
   "source": [
    "# Создаём модель (НАСТРОЙКИ НЕ ТРОГАЕМ)\n",
    "model = RandomForestRegressor(n_estimators=100, verbose=1, n_jobs=-1, random_state=RANDOM_SEED)"
   ],
   "metadata": {
    "collapsed": false,
    "pycharm": {
     "name": "#%%\n",
     "is_executing": false
    }
   }
  },
  {
   "cell_type": "code",
   "execution_count": 20,
   "outputs": [
    {
     "name": "stderr",
     "text": [
      "[Parallel(n_jobs=-1)]: Using backend ThreadingBackend with 4 concurrent workers.\n",
      "[Parallel(n_jobs=-1)]: Done  42 tasks      | elapsed:    2.7s\n",
      "[Parallel(n_jobs=-1)]: Done 100 out of 100 | elapsed:    5.4s finished\n",
      "[Parallel(n_jobs=4)]: Using backend ThreadingBackend with 4 concurrent workers.\n",
      "[Parallel(n_jobs=4)]: Done  42 tasks      | elapsed:    0.0s\n",
      "[Parallel(n_jobs=4)]: Done 100 out of 100 | elapsed:    0.1s finished\n"
     ],
     "output_type": "stream"
    }
   ],
   "source": [
    "# Обучаем модель на тестовом наборе данных\n",
    "model.fit(X_train, y_train)\n",
    "\n",
    "# Используем обученную модель для предсказания рейтинга ресторанов в тестовой выборке.\n",
    "# Предсказанные значения записываем в переменную y_pred\n",
    "y_pred = model.predict(X_test)"
   ],
   "metadata": {
    "collapsed": false,
    "pycharm": {
     "name": "#%%\n",
     "is_executing": false
    }
   }
  },
  {
   "cell_type": "code",
   "execution_count": 21,
   "outputs": [
    {
     "name": "stdout",
     "text": [
      "MAE: 0.20944875\n"
     ],
     "output_type": "stream"
    }
   ],
   "source": [
    "# Сравниваем предсказанные значения (y_pred) с реальными (y_test), и смотрим насколько они в среднем отличаются\n",
    "# Метрика называется Mean Absolute Error (MAE) и показывает среднее отклонение предсказанных значений от фактических.\n",
    "print('MAE:', metrics.mean_absolute_error(y_test, y_pred))"
   ],
   "metadata": {
    "collapsed": false,
    "pycharm": {
     "name": "#%%\n",
     "is_executing": false
    }
   }
  },
  {
   "cell_type": "code",
   "execution_count": 22,
   "outputs": [
    {
     "data": {
      "text/plain": "<matplotlib.axes._subplots.AxesSubplot at 0x7fa6e5487400>"
     },
     "metadata": {},
     "output_type": "execute_result",
     "execution_count": 22
    },
    {
     "data": {
      "text/plain": "<Figure size 720x720 with 1 Axes>",
      "image/png": "[encoded data removed]"
     },
     "metadata": {
      "needs_background": "light"
     },
     "output_type": "display_data"
    }
   ],
   "source": [
    "# в RandomForestRegressor есть возможность вывести самые важные признаки для модели\n",
    "plt.rcParams['figure.figsize'] = (10,10)\n",
    "feat_importances = pd.Series(model.feature_importances_, index=X.columns)\n",
    "feat_importances.nlargest(15).plot(kind='barh')\n"
   ],
   "metadata": {
    "collapsed": false,
    "pycharm": {
     "name": "#%%\n",
     "is_executing": false
    }
   }
  }
 ],
 "metadata": {
  "kernelspec": {
   "display_name": "Python 3",
   "language": "python",
   "name": "python3"
  },
  "language_info": {
   "codemirror_mode": {
    "name": "ipython",
    "version": 3
   },
   "file_extension": ".py",
   "mimetype": "text/x-python",
   "name": "python",
   "nbconvert_exporter": "python",
   "pygments_lexer": "ipython3",
   "version": "3.6.6"
  },
  "pycharm": {
   "stem_cell": {
    "cell_type": "raw",
    "source": [],
    "metadata": {
     "collapsed": false
    }
   }
  }
 },
 "nbformat": 4,
 "nbformat_minor": 4
}